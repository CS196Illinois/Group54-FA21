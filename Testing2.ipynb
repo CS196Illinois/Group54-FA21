{
 "cells": [
  {
   "cell_type": "code",
   "execution_count": 151,
   "id": "7286e4c9",
   "metadata": {},
   "outputs": [],
   "source": [
    "# spotify python api imports\n",
    "import spotipy\n",
    "from spotipy.oauth2 import SpotifyClientCredentials\n",
    "import pandas as pd\n",
    "\n",
    "# accessing spotify application through credentials\n",
    "cid = '5b85a9af539f47da8dcbbcf517e42650'\n",
    "secret = 'cb3ce73abd464866b285015d631ca1d5'\n",
    "clientCredentialsManager = SpotifyClientCredentials(client_id=cid, client_secret=secret)\n",
    "sp = spotipy.Spotify(client_credentials_manager = clientCredentialsManager)"
   ]
  },
  {
   "cell_type": "code",
   "execution_count": 152,
   "id": "5c9a5d32",
   "metadata": {},
   "outputs": [],
   "source": [
    "valenceForEmotion = {} # for lasya\n",
    "\n",
    "# method to access playlist and obtain song data\n",
    "def accessPlaylist(url, limit, offset):\n",
    "    # create an empty list and an empty df\n",
    "    listOfFeatures = ['artist', 'album', 'trackName', 'trackId', 'danceability', 'energy', 'loudness',\n",
    "                              'valence', 'tempo', 'acousticness']\n",
    "    playlistDf = pd.DataFrame(columns = listOfFeatures)\n",
    "    playlist = sp.user_playlist_tracks('', url, limit=limit, offset=offset)[\"items\"]\n",
    "\n",
    "    # loop through the given playlist and get song features\n",
    "    for track in playlist:\n",
    "        # create empty dict\n",
    "        playlistFeatures = {}\n",
    "        # get song data\n",
    "        playlistFeatures['artist'] = track['track']['album']['artists'][0]['name']\n",
    "        playlistFeatures['album'] = track['track']['album']['name']\n",
    "        playlistFeatures[\"trackName\"] = track[\"track\"][\"name\"]\n",
    "        playlistFeatures[\"trackId\"] = track[\"track\"][\"id\"]\n",
    "        playlistFeatures[\"popularity\"] = track[\"track\"][\"popularity\"]\n",
    "        playlistFeatures[\"albumReleaseDate\"] = track[\"track\"][\"album\"][\"release_date\"]\n",
    "        audioFeatures = sp.audio_features(playlistFeatures[\"trackId\"])[0]\n",
    "        \n",
    "        # get song features\n",
    "        for feature in listOfFeatures[4:]:\n",
    "            playlistFeatures[feature] = audioFeatures[feature]\n",
    "            # DO NOT DELETE - LASYA NEEDS FOR VALENCE ANALYSIS \n",
    "            if (feature == \"valence\"):\n",
    "                valenceForEmotion[playlistFeatures['trackName']] = audioFeatures[\"valence\"]\n",
    "        \n",
    "        trackDf = pd.DataFrame(playlistFeatures, index = [0])\n",
    "        playlistDf = pd.concat([playlistDf, trackDf], ignore_index = True)\n",
    "    # TEST --> print(playlistDf.valence[2])\n",
    "    return playlistDf"
   ]
  },
  {
   "cell_type": "code",
   "execution_count": 153,
   "id": "cdcbcd2c",
   "metadata": {},
   "outputs": [
    {
     "data": {
      "text/plain": [
       "'\\n# send any public playlist to method\\n# \\'https://open.spotify.com/playlist/2U9q9cml8EInaiYFDYwZ73?si=1f188bb952c041c1\\'\\nresult = str(input(\"Please enter your Spotify playlist URL: \"))\\ntry:\\n    songs = accessPlaylist(result, 100, 0)\\nexcept:\\n    songs = accessPlaylist(\\'https://open.spotify.com/playlist/2U9q9cml8EInaiYFDYwZ73?si=1f188bb952c041c1\\', 100, 0)\\n    print(\"Your entered playlist URL could not be found. We have provided our own playlist for you to explore instead.\")\\n'"
      ]
     },
     "execution_count": 153,
     "metadata": {},
     "output_type": "execute_result"
    }
   ],
   "source": [
    "'''\n",
    "# send any public playlist to method\n",
    "# 'https://open.spotify.com/playlist/2U9q9cml8EInaiYFDYwZ73?si=1f188bb952c041c1'\n",
    "result = str(input(\"Please enter your Spotify playlist URL: \"))\n",
    "try:\n",
    "    songs = accessPlaylist(result, 100, 0)\n",
    "except:\n",
    "    songs = accessPlaylist('https://open.spotify.com/playlist/2U9q9cml8EInaiYFDYwZ73?si=1f188bb952c041c1', 100, 0)\n",
    "    print(\"Your entered playlist URL could not be found. We have provided our own playlist for you to explore instead.\")\n",
    "'''"
   ]
  },
  {
   "cell_type": "code",
   "execution_count": 154,
   "id": "2906a88e",
   "metadata": {},
   "outputs": [
    {
     "data": {
      "text/plain": [
       "'\\n# put song data into table\\nplaylistTable = pd.concat([songs], ignore_index = True)\\n'"
      ]
     },
     "execution_count": 154,
     "metadata": {},
     "output_type": "execute_result"
    }
   ],
   "source": [
    "'''\n",
    "# put song data into table\n",
    "playlistTable = pd.concat([songs], ignore_index = True)\n",
    "'''"
   ]
  },
  {
   "cell_type": "code",
   "execution_count": 155,
   "id": "fc18d8fe",
   "metadata": {
    "scrolled": true
   },
   "outputs": [
    {
     "data": {
      "text/plain": [
       "'\\n# determine number of songs in the playlist to display the correct number in the table\\nnumberOfSongs = 1\\n#for trackName in songs:\\nfor index, row in songs.iterrows():\\n    numberOfSongs += 1\\nplaylistTable.head(numberOfSongs)\\n'"
      ]
     },
     "execution_count": 155,
     "metadata": {},
     "output_type": "execute_result"
    }
   ],
   "source": [
    "'''\n",
    "# determine number of songs in the playlist to display the correct number in the table\n",
    "numberOfSongs = 1\n",
    "#for trackName in songs:\n",
    "for index, row in songs.iterrows():\n",
    "    numberOfSongs += 1\n",
    "playlistTable.head(numberOfSongs)\n",
    "'''"
   ]
  },
  {
   "cell_type": "code",
   "execution_count": 156,
   "id": "d89a7601",
   "metadata": {},
   "outputs": [
    {
     "data": {
      "text/plain": [
       "'\\n# imports for graphing and spotify api\\nimport matplotlib.pyplot as plt\\nfrom matplotlib.colors import BoundaryNorm\\nfrom matplotlib.ticker import MaxNLocator\\nimport numpy as np\\nimport spotipy as sp\\nfrom termcolor import colored\\n\\ntotalValence = 0.0\\ncount = 0\\nsongsForEmotion = []\\ngraphHeight = []\\ncolorsForEmotion = []\\n\\n# looping through valence values\\nfor key, value in valenceForEmotion.items():\\n    totalValence += value\\n    count += 1\\n    songsForEmotion.append(count) \\n    graphHeight.append(1) # every bar will have same height\\n    # print(\"The valence of \" + key + \" is \" + str(value))\\n    \\n    # adjusting the color of the bar based on the song\\'s happiness\\n    if (value < 0.3):\\n        colorsForEmotion.append(\"black\")\\n    elif (value < 0.5):\\n        colorsForEmotion.append(\"blue\")\\n    elif (value < 0.7):\\n        colorsForEmotion.append(\"green\")\\n    else:\\n        colorsForEmotion.append(\"orange\")\\n\\navgValence = totalValence / count\\n\\n# printing output to the user\\nif (avgValence < 0.3):\\n    print(colored(\"Emotions associated with your music are very sad and gloomy.\", \\'black\\'))\\n    print(\"Your average valence is \" + str(avgValence))\\nelif (avgValence < 0.5):\\n    print(colored(\"Emotions associated with your music are average, slightly on the sadder side.\", \\'blue\\'))\\n    print(\"Your average valance is \" + str(avgValence))\\nelif (avgValence < 0.7):\\n    print(colored(\"Emotions associated with your music are average, slightly on the happier side.\", \\'green\\'))\\n    print(\"Your average valance is \" + str(avgValence))\\nelse:\\n    print(colored(\"Emotions associated with your music are very happy and hype.\", \\'orange\\'))\\n    print(\"Your average valance is \" + str(avgValence))\\n    \\n# putting data into the graph and displaying it\\nplt.bar(songsForEmotion, graphHeight, color=colorsForEmotion)\\nplt.title(\\'Emotions of Your Music Depicted Through Colors\\')\\nplt.xlabel(\\'Track # in Playlist\\')\\nplt.yticks([])\\nplt.xticks(np.arange(1, count + 1, 1))\\nplt.show()\\n'"
      ]
     },
     "execution_count": 156,
     "metadata": {},
     "output_type": "execute_result"
    }
   ],
   "source": [
    "'''\n",
    "# imports for graphing and spotify api\n",
    "import matplotlib.pyplot as plt\n",
    "from matplotlib.colors import BoundaryNorm\n",
    "from matplotlib.ticker import MaxNLocator\n",
    "import numpy as np\n",
    "import spotipy as sp\n",
    "from termcolor import colored\n",
    "\n",
    "totalValence = 0.0\n",
    "count = 0\n",
    "songsForEmotion = []\n",
    "graphHeight = []\n",
    "colorsForEmotion = []\n",
    "\n",
    "# looping through valence values\n",
    "for key, value in valenceForEmotion.items():\n",
    "    totalValence += value\n",
    "    count += 1\n",
    "    songsForEmotion.append(count) \n",
    "    graphHeight.append(1) # every bar will have same height\n",
    "    # print(\"The valence of \" + key + \" is \" + str(value))\n",
    "    \n",
    "    # adjusting the color of the bar based on the song's happiness\n",
    "    if (value < 0.3):\n",
    "        colorsForEmotion.append(\"black\")\n",
    "    elif (value < 0.5):\n",
    "        colorsForEmotion.append(\"blue\")\n",
    "    elif (value < 0.7):\n",
    "        colorsForEmotion.append(\"green\")\n",
    "    else:\n",
    "        colorsForEmotion.append(\"orange\")\n",
    "\n",
    "avgValence = totalValence / count\n",
    "\n",
    "# printing output to the user\n",
    "if (avgValence < 0.3):\n",
    "    print(colored(\"Emotions associated with your music are very sad and gloomy.\", 'black'))\n",
    "    print(\"Your average valence is \" + str(avgValence))\n",
    "elif (avgValence < 0.5):\n",
    "    print(colored(\"Emotions associated with your music are average, slightly on the sadder side.\", 'blue'))\n",
    "    print(\"Your average valance is \" + str(avgValence))\n",
    "elif (avgValence < 0.7):\n",
    "    print(colored(\"Emotions associated with your music are average, slightly on the happier side.\", 'green'))\n",
    "    print(\"Your average valance is \" + str(avgValence))\n",
    "else:\n",
    "    print(colored(\"Emotions associated with your music are very happy and hype.\", 'orange'))\n",
    "    print(\"Your average valance is \" + str(avgValence))\n",
    "    \n",
    "# putting data into the graph and displaying it\n",
    "plt.bar(songsForEmotion, graphHeight, color=colorsForEmotion)\n",
    "plt.title('Emotions of Your Music Depicted Through Colors')\n",
    "plt.xlabel('Track # in Playlist')\n",
    "plt.yticks([])\n",
    "plt.xticks(np.arange(1, count + 1, 1))\n",
    "plt.show()\n",
    "'''"
   ]
  },
  {
   "cell_type": "code",
   "execution_count": 157,
   "id": "c7a86f28",
   "metadata": {},
   "outputs": [
    {
     "data": {
      "text/plain": [
       "'\\n# imports for graphs\\nimport numpy as np\\nimport matplotlib.pyplot as plt\\n\\n# declaring a method to graph a comparison between two songs\\ndef audioAnalysisGrapher(name1, name2, decision):\\n    index1 = int(0)\\n    index2 = int(1)\\n    count = 0\\n    one = False\\n    two = False\\n    # determining what index the song name correlates to\\n    if decision == \"name\":\\n        for index, row in songs.iterrows():\\n            nameTest = str(row[\\'trackName\\'])\\n            nameTester = nameTest.upper()\\n            if name1 == nameTester:\\n                index1 = count\\n                one = True\\n            if name2 == nameTester:\\n                index2 = count\\n                two = True\\n            if name1 in nameTester:\\n                index1 = count\\n                name1 = nameTest\\n                one = True\\n            if name2 in nameTester:\\n                index2 = count\\n                name2 = nameTest\\n                two = True\\n            count += 1\\n    else:\\n        numberOne = int(name1)\\n        numberTwo = int(name2)\\n        for index, row in songs.iterrows():\\n            count += 1\\n            nameTest = str(row[\\'trackName\\'])\\n            if numberOne == count:\\n                index1 = count\\n                name1 = nameTest\\n                one = True\\n            elif numberTwo == count:\\n                index2 = count\\n                name2 = nameTest\\n                two = True\\n    \\n    if (one == False):\\n        print(\"\")\\n        print(\"The first song \" + decision + \" entered does not exist within the playlist\")\\n    elif (two == False):\\n        print(\"\")\\n        print(\"The second song \" + decision + \" entered does not exist within the playlist\")\\n    \\n    if (one == True and two == True):\\n        # obtaining song features\\n        firstAverages = (songs.valence[index1]*100, songs.danceability[index1]*100, songs.energy[index1]*100, songs.tempo[index1])\\n        secondAverages = (songs.valence[index2]*100, songs.danceability[index2]*100, songs.energy[index2]*100, songs.tempo[index2])\\n\\n        # creating plot\\n        fig, ax = plt.subplots()\\n        index = np.arange(4)\\n        barWidth = 0.2\\n        opacity1 = 0.8\\n        opacity2 = 0.8\\n    \\n        # changing the color of the bar based on the song\\'s valence\\n        color1 = \\'gray\\'\\n        if (songs.valence[index1] < 0.3):\\n            color1 = \\'black\\'\\n        elif (songs.valence[index1] < 0.5):\\n            color1 = \\'blue\\'\\n        elif (songs.valence[index1] < 0.7):\\n            color1 = \\'green\\'\\n        else:\\n            color1 = \\'orange\\'\\n       \\n        # changing the color of the bar based on the song\\'s valence\\n        color2 = \\'white\\'\\n        if (songs.valence[index2] < 0.3):\\n            color2 = \\'black\\'\\n        elif (songs.valence[index2] < 0.5):\\n            color2 = \\'blue\\'\\n        elif (songs.valence[index2] < 0.7):\\n            color2 = \\'green\\'\\n        else:\\n            color2 = \\'orange\\'\\n    \\n        # adjusting opacity if both songs represent the same color correlating to valence\\n        if (color1 == color2):\\n            opacity1 = 0.9\\n            opacity2 = 0.5\\n    \\n        bars1 = plt.bar(index, firstAverages, barWidth,\\n        alpha=opacity1,\\n        color=color1,\\n        label=name1)\\n    \\n        bars2 = plt.bar(index + barWidth, secondAverages, barWidth,\\n        alpha=opacity2,\\n        color=color2,\\n        label=name2)\\n\\n        plt.xlabel(\\'\\')\\n        plt.ylabel(\\'Mean Values\\')\\n        plt.title(\\'Audio Analysis Comparison\\')\\n        plt.xticks(index + barWidth, (\\'Valence (x100)\\', \\'Danceability (x100)\\', \\'Energy (x100)\\', \\'Tempo\\'))\\n        plt.legend()\\n\\n        plt.tight_layout()\\n        plt.show()\\n'"
      ]
     },
     "execution_count": 157,
     "metadata": {},
     "output_type": "execute_result"
    }
   ],
   "source": [
    "'''\n",
    "# imports for graphs\n",
    "import numpy as np\n",
    "import matplotlib.pyplot as plt\n",
    "\n",
    "# declaring a method to graph a comparison between two songs\n",
    "def audioAnalysisGrapher(name1, name2, decision):\n",
    "    index1 = int(0)\n",
    "    index2 = int(1)\n",
    "    count = 0\n",
    "    one = False\n",
    "    two = False\n",
    "    # determining what index the song name correlates to\n",
    "    if decision == \"name\":\n",
    "        for index, row in songs.iterrows():\n",
    "            nameTest = str(row['trackName'])\n",
    "            nameTester = nameTest.upper()\n",
    "            if name1 == nameTester:\n",
    "                index1 = count\n",
    "                one = True\n",
    "            if name2 == nameTester:\n",
    "                index2 = count\n",
    "                two = True\n",
    "            if name1 in nameTester:\n",
    "                index1 = count\n",
    "                name1 = nameTest\n",
    "                one = True\n",
    "            if name2 in nameTester:\n",
    "                index2 = count\n",
    "                name2 = nameTest\n",
    "                two = True\n",
    "            count += 1\n",
    "    else:\n",
    "        numberOne = int(name1)\n",
    "        numberTwo = int(name2)\n",
    "        for index, row in songs.iterrows():\n",
    "            count += 1\n",
    "            nameTest = str(row['trackName'])\n",
    "            if numberOne == count:\n",
    "                index1 = count\n",
    "                name1 = nameTest\n",
    "                one = True\n",
    "            elif numberTwo == count:\n",
    "                index2 = count\n",
    "                name2 = nameTest\n",
    "                two = True\n",
    "    \n",
    "    if (one == False):\n",
    "        print(\"\")\n",
    "        print(\"The first song \" + decision + \" entered does not exist within the playlist\")\n",
    "    elif (two == False):\n",
    "        print(\"\")\n",
    "        print(\"The second song \" + decision + \" entered does not exist within the playlist\")\n",
    "    \n",
    "    if (one == True and two == True):\n",
    "        # obtaining song features\n",
    "        firstAverages = (songs.valence[index1]*100, songs.danceability[index1]*100, songs.energy[index1]*100, songs.tempo[index1])\n",
    "        secondAverages = (songs.valence[index2]*100, songs.danceability[index2]*100, songs.energy[index2]*100, songs.tempo[index2])\n",
    "\n",
    "        # creating plot\n",
    "        fig, ax = plt.subplots()\n",
    "        index = np.arange(4)\n",
    "        barWidth = 0.2\n",
    "        opacity1 = 0.8\n",
    "        opacity2 = 0.8\n",
    "    \n",
    "        # changing the color of the bar based on the song's valence\n",
    "        color1 = 'gray'\n",
    "        if (songs.valence[index1] < 0.3):\n",
    "            color1 = 'black'\n",
    "        elif (songs.valence[index1] < 0.5):\n",
    "            color1 = 'blue'\n",
    "        elif (songs.valence[index1] < 0.7):\n",
    "            color1 = 'green'\n",
    "        else:\n",
    "            color1 = 'orange'\n",
    "       \n",
    "        # changing the color of the bar based on the song's valence\n",
    "        color2 = 'white'\n",
    "        if (songs.valence[index2] < 0.3):\n",
    "            color2 = 'black'\n",
    "        elif (songs.valence[index2] < 0.5):\n",
    "            color2 = 'blue'\n",
    "        elif (songs.valence[index2] < 0.7):\n",
    "            color2 = 'green'\n",
    "        else:\n",
    "            color2 = 'orange'\n",
    "    \n",
    "        # adjusting opacity if both songs represent the same color correlating to valence\n",
    "        if (color1 == color2):\n",
    "            opacity1 = 0.9\n",
    "            opacity2 = 0.5\n",
    "    \n",
    "        bars1 = plt.bar(index, firstAverages, barWidth,\n",
    "        alpha=opacity1,\n",
    "        color=color1,\n",
    "        label=name1)\n",
    "    \n",
    "        bars2 = plt.bar(index + barWidth, secondAverages, barWidth,\n",
    "        alpha=opacity2,\n",
    "        color=color2,\n",
    "        label=name2)\n",
    "\n",
    "        plt.xlabel('')\n",
    "        plt.ylabel('Mean Values')\n",
    "        plt.title('Audio Analysis Comparison')\n",
    "        plt.xticks(index + barWidth, ('Valence (x100)', 'Danceability (x100)', 'Energy (x100)', 'Tempo'))\n",
    "        plt.legend()\n",
    "\n",
    "        plt.tight_layout()\n",
    "        plt.show()\n",
    "'''"
   ]
  },
  {
   "cell_type": "code",
   "execution_count": 158,
   "id": "c98e692b",
   "metadata": {},
   "outputs": [
    {
     "data": {
      "text/plain": [
       "'\\ninput1 = \"\"\\ninput2 = \"\"\\ndecision = str(input(\"Would you like to enter track names or track numbers? \"))\\ndecision = decision.lower()\\ntester = False\\nwhile tester == False:\\n    if \"name\" in decision:\\n        decision = \"name\"\\n        tester = True\\n    elif \"num\" in decision:\\n        decision = \"number\"\\n        tester = True\\n    else:\\n        print(\"\")\\n        decision = str(input(\"We could not recognize your input. Please retry. Would you like to enter track names or track numbers? \"))\\n        decision = decision.lower()\\nwhile input1 == input2:\\n    input1 = str(input(\\'What is the \\' + decision + \\' of the first track you would like to analyze? \\'))\\n    input2 = str(input(\\'What is the \\' + decision + \\' of the track you would like to compare it to? \\'))\\n    if (input1 == input2):\\n        print(\"\")\\n        print(\"Please enter two different song \" + decision + \"s\")\\ninput1 = input1.upper()\\ninput2 = input2.upper()\\naudioAnalysisGrapher(input1, input2, decision)\\n'"
      ]
     },
     "execution_count": 158,
     "metadata": {},
     "output_type": "execute_result"
    }
   ],
   "source": [
    "'''\n",
    "input1 = \"\"\n",
    "input2 = \"\"\n",
    "decision = str(input(\"Would you like to enter track names or track numbers? \"))\n",
    "decision = decision.lower()\n",
    "tester = False\n",
    "while tester == False:\n",
    "    if \"name\" in decision:\n",
    "        decision = \"name\"\n",
    "        tester = True\n",
    "    elif \"num\" in decision:\n",
    "        decision = \"number\"\n",
    "        tester = True\n",
    "    else:\n",
    "        print(\"\")\n",
    "        decision = str(input(\"We could not recognize your input. Please retry. Would you like to enter track names or track numbers? \"))\n",
    "        decision = decision.lower()\n",
    "while input1 == input2:\n",
    "    input1 = str(input('What is the ' + decision + ' of the first track you would like to analyze? '))\n",
    "    input2 = str(input('What is the ' + decision + ' of the track you would like to compare it to? '))\n",
    "    if (input1 == input2):\n",
    "        print(\"\")\n",
    "        print(\"Please enter two different song \" + decision + \"s\")\n",
    "input1 = input1.upper()\n",
    "input2 = input2.upper()\n",
    "audioAnalysisGrapher(input1, input2, decision)\n",
    "'''"
   ]
  },
  {
   "cell_type": "code",
   "execution_count": 159,
   "id": "21ef2c6e",
   "metadata": {},
   "outputs": [
    {
     "data": {
      "text/plain": [
       "'\\nimport chartify\\nimport numpy as np\\nimport matplotlib.pyplot as plt\\n\\ndata = playlist_5b85a9af539f47da8dcbbcf517e42650()\\n\\n# Manipulate the data\\nenergy_and_danceability_by_track = (\\n    data.groupby(\\'track\\')[[\\'energy\\', \\'danceability\\']].sum()\\n    .reset_index())\\nprint(energy_and_danceability_by_track.head())\\n    \\n# Plot the data\\nch = chartify.Chart(blank_labels=True)\\nch.plot.scatter(\\n    data_frame=energy_and_danceability_by_track,\\n    x_column=\\'energy\\',\\n    y_column=\\'danceability\\',\\n    color_column=\\'track\\')\\nch.style.color_palette.reset_palette_order()\\nch.plot.text(\\n    data_frame=price_and_quantity_by_country,\\n    x_column=\\'energy\\',\\n    y_column=\\'danceability\\',\\n    text_column=\\'track\\',\\n    color_column=\\'track\\',\\n    x_offset=1,\\n    y_offset=-1,\\n    font_size=\\'10pt\\')\\nch.set_title(\"Energy and Danceability Correlation\")\\nch.set_subtitle(\"Labels for specific observations.\")\\nch.show(\\'png\\')\\n'"
      ]
     },
     "execution_count": 159,
     "metadata": {},
     "output_type": "execute_result"
    }
   ],
   "source": [
    "'''\n",
    "import chartify\n",
    "import numpy as np\n",
    "import matplotlib.pyplot as plt\n",
    "\n",
    "data = playlist_5b85a9af539f47da8dcbbcf517e42650()\n",
    "\n",
    "# Manipulate the data\n",
    "energy_and_danceability_by_track = (\n",
    "    data.groupby('track')[['energy', 'danceability']].sum()\n",
    "    .reset_index())\n",
    "print(energy_and_danceability_by_track.head())\n",
    "    \n",
    "# Plot the data\n",
    "ch = chartify.Chart(blank_labels=True)\n",
    "ch.plot.scatter(\n",
    "    data_frame=energy_and_danceability_by_track,\n",
    "    x_column='energy',\n",
    "    y_column='danceability',\n",
    "    color_column='track')\n",
    "ch.style.color_palette.reset_palette_order()\n",
    "ch.plot.text(\n",
    "    data_frame=price_and_quantity_by_country,\n",
    "    x_column='energy',\n",
    "    y_column='danceability',\n",
    "    text_column='track',\n",
    "    color_column='track',\n",
    "    x_offset=1,\n",
    "    y_offset=-1,\n",
    "    font_size='10pt')\n",
    "ch.set_title(\"Energy and Danceability Correlation\")\n",
    "ch.set_subtitle(\"Labels for specific observations.\")\n",
    "ch.show('png')\n",
    "'''"
   ]
  },
  {
   "cell_type": "code",
   "execution_count": null,
   "id": "a46c0af9",
   "metadata": {},
   "outputs": [
    {
     "name": "stderr",
     "output_type": "stream",
     "text": [
      " * Running on http://localhost:9000/ (Press CTRL+C to quit)\n",
      "127.0.0.1 - - [05/Dec/2021 18:21:49] \"\u001b[37mGET / HTTP/1.1\u001b[0m\" 200 -\n",
      "127.0.0.1 - - [05/Dec/2021 18:22:04] \"\u001b[37mPOST / HTTP/1.1\u001b[0m\" 200 -\n"
     ]
    },
    {
     "name": "stdout",
     "output_type": "stream",
     "text": [
      "Success!\n"
     ]
    }
   ],
   "source": [
    "from werkzeug.wrappers import Request, Response\n",
    "from flask import Flask, render_template, request, url_for, flash, redirect\n",
    "from flask_table import Table, Col\n",
    "\n",
    "app = Flask(__name__)\n",
    "app.config['SECRET_KEY'] = 'superdupersecretkey'\n",
    "\n",
    "headings = (\"Artist\", \"Album\", \"Song\", \"Track ID\", \"Danceability\", \"Energy\", \"Loudness\", \"Valence\", \"Tempo\", \"Acousticness\", \"Popularity\", \"Album Release Date\")\n",
    "data = ((\"A\", \"B\", \"C\", \"D\", \"E\", \"F\", \"G\", \"H\", \"I\", \"J\", \"K\", \"L\"), (\"A\", \"B\", \"C\", \"D\", \"E\", \"F\", \"G\", \"H\", \"I\", \"J\", \"K\", \"L\"))\n",
    "\n",
    "@app.route(\"/\", methods=('GET', 'POST'))\n",
    "def index():\n",
    "    if request.method == 'POST':\n",
    "        playlistURL = str(request.form['url'])\n",
    "        try:\n",
    "            testingone = accessPlaylist(playlistURL, 100, 0)\n",
    "            records = testingone.to_records(index=False)\n",
    "            data = list(records)\n",
    "            print(\"Success!\")\n",
    "            return render_template('display.html', headings=headings, data=data)\n",
    "#            return redirect(url_for('display'))\n",
    "        except:\n",
    "            testingone = accessPlaylist('https://open.spotify.com/playlist/2U9q9cml8EInaiYFDYwZ73?si=1f188bb952c041c1', 100, 0)\n",
    "            records = testingone.to_records(index=False)\n",
    "            data = list(records)\n",
    "            return render_template('display.html', headings=headings, data=data)\n",
    "            print(\"Your entered playlist URL could not be found. We have provided our own playlist for you to explore instead.\")\n",
    "#            return redirect(url_for('display'))\n",
    "    return render_template('index.html')\n",
    "\n",
    "@app.route(\"/display\")\n",
    "def display():\n",
    "    return render_template('display.html', headings=headings, data=data)\n",
    "\n",
    "# Code taken from: https://stackoverflow.com/questions/41831929/debug-flask-server-inside-jupyter-notebook\n",
    "if __name__ == '__main__':\n",
    "    from werkzeug.serving import run_simple\n",
    "    run_simple('localhost', 9000, app)"
   ]
  }
 ],
 "metadata": {
  "kernelspec": {
   "display_name": "Python 3",
   "language": "python",
   "name": "python3"
  },
  "language_info": {
   "codemirror_mode": {
    "name": "ipython",
    "version": 3
   },
   "file_extension": ".py",
   "mimetype": "text/x-python",
   "name": "python",
   "nbconvert_exporter": "python",
   "pygments_lexer": "ipython3",
   "version": "3.8.8"
  }
 },
 "nbformat": 4,
 "nbformat_minor": 5
}
